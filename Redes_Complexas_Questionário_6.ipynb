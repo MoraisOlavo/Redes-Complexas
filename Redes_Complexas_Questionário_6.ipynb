{
  "nbformat": 4,
  "nbformat_minor": 0,
  "metadata": {
    "colab": {
      "provenance": []
    },
    "kernelspec": {
      "name": "python3",
      "display_name": "Python 3"
    },
    "language_info": {
      "name": "python"
    }
  },
  "cells": [
    {
      "cell_type": "code",
      "source": [
        "import networkx as nx\n",
        "import numpy as np\n",
        "import math\n",
        "from scipy.stats import pearsonr"
      ],
      "metadata": {
        "id": "LH5heFRCMuI2"
      },
      "execution_count": null,
      "outputs": []
    },
    {
      "cell_type": "markdown",
      "source": [
        "Questão 1: Alternativa A"
      ],
      "metadata": {
        "id": "Jew8gDo8MKoF"
      }
    },
    {
      "cell_type": "code",
      "execution_count": null,
      "metadata": {
        "colab": {
          "base_uri": "https://localhost:8080/"
        },
        "id": "Y-C3E0uIMCVi",
        "outputId": "ccc97911-ac93-4058-d66d-f0042d24eaeb"
      },
      "outputs": [
        {
          "output_type": "stream",
          "name": "stdout",
          "text": [
            "Average Clustering Coefficient: 0.040440210401890796\n",
            "Segundo Momento do Grau: 204.55051800000015\n"
          ]
        }
      ],
      "source": [
        "#Resultado variava muito entre os testes, rodei 1000 testes e fiz a média\n",
        "\n",
        "#Recebe um grafo e retorna o n-ésimo momento\n",
        "def obterMomento(G,n):\n",
        "  aux=0\n",
        "  for node in (G.nodes()):#Para todo grau\n",
        "    aux+=len(list(G.neighbors(node)))**n#Incrementa a variável aux com o grau do nó elevado a n\n",
        "  return aux/G.number_of_nodes();#Retorna a soma dividido pelo número de nós no grafo\n",
        "\n",
        "#Vetores que armazenam o CC e Momento\n",
        "v1=[]\n",
        "v2=[]\n",
        "\n",
        "#Executa 1000 testes\n",
        "for i in range(0,1000):\n",
        "  #Cria o grafo\n",
        "  G=nx.barabasi_albert_graph(1000,5)\n",
        "\n",
        "  #Armazena o resultado\n",
        "  v1.append(nx.average_clustering(G))\n",
        "  v2.append(obterMomento(G,2))\n",
        "\n",
        "#Calcula e exibe a média dos resultados\n",
        "print(\"Average Clustering Coefficient: \"+str(sum(v1)/len(v1)))\n",
        "print(\"Segundo Momento do Grau: \"+str(sum(v2)/len(v2)))"
      ]
    },
    {
      "cell_type": "markdown",
      "source": [
        "Questão 2: Alternativa E"
      ],
      "metadata": {
        "id": "PyddiknHOHeC"
      }
    },
    {
      "cell_type": "code",
      "source": [
        "#Função que recebe um grafo e retorna um vetor com os graus de cada nó\n",
        "def obterGraus(G):\n",
        "  aux=[]\n",
        "  for node in G.nodes():\n",
        "    aux.append(len(list(G.neighbors(node))))\n",
        "  return aux;\n",
        "\n",
        "#Retorna um vetor com a distribuição do grau\n",
        "def calcularDistribuicaoGrau(G):\n",
        "  graus=obterGraus(G)#Obtém o vetor com os graus de cada nó\n",
        "\n",
        "  #Encontra o maior grau\n",
        "  maior=graus[0]\n",
        "  for i in graus:\n",
        "    if i>maior:\n",
        "      maior=i\n",
        "\n",
        "  aux=np.zeros(shape=(maior+1)) #Cria um vetor para armzenar a distribuição\n",
        "  for i in range(0,maior+1):\n",
        "    aux[i]=graus.count(i)\n",
        "    aux[i]=aux[i]/G.number_of_nodes()\n",
        "\n",
        "  return aux #Retorna a distribuição\n",
        "\n",
        "\n",
        "#Calcula a entropia de shannon\n",
        "def calcularEntropiaShannon(G):\n",
        "\n",
        "  aux=calcularDistribuicaoGrau(G)#Obtém a distribuição\n",
        "  soma=0\n",
        "\n",
        "  for i in aux:#Para cada probabilidade\n",
        "    if i!=0:\n",
        "      soma+=i*math.log2(i)\n",
        "\n",
        "  return (-1)*soma #Retorna a entropia de Shannon\n",
        "\n",
        "\n",
        "GER=nx.gnp_random_graph(1000,10/999)\n",
        "GBA=nx.barabasi_albert_graph(1000,5)\n",
        "print(\"Entropia de Shannon Barabasi-Albert: \"+str(calcularEntropiaShannon(GBA)))\n",
        "print(\"Entropia de Shannon Erdos-Renyi: \"+str(calcularEntropiaShannon(GER)))"
      ],
      "metadata": {
        "colab": {
          "base_uri": "https://localhost:8080/"
        },
        "id": "LTHO60XwOI_2",
        "outputId": "d310a3c6-ed90-4144-e4fe-a67556a875ee"
      },
      "execution_count": null,
      "outputs": [
        {
          "output_type": "stream",
          "name": "stdout",
          "text": [
            "Entropia de Shannon Barabasi-Albert: 3.598640866291372\n",
            "Entropia de Shannon Erdos-Renyi: 3.6557468362357954\n"
          ]
        }
      ]
    },
    {
      "cell_type": "markdown",
      "source": [
        "Questão 3: Alternativa D"
      ],
      "metadata": {
        "id": "ErMChS76P4ve"
      }
    },
    {
      "cell_type": "code",
      "source": [
        "#Cria o grafo\n",
        "G=nx.barabasi_albert_graph(1000,5)\n",
        "\n",
        "#Calcula o eigenvector centrality de cada nó\n",
        "aux=nx.eigenvector_centrality(G)\n",
        "\n",
        "#Exibe o resultado\n",
        "print(\"Correlação de Pearson: \"+str(pearsonr(obterGraus(G),list(aux.values()))))"
      ],
      "metadata": {
        "colab": {
          "base_uri": "https://localhost:8080/"
        },
        "id": "IQT-zTvkP5jp",
        "outputId": "d6a74055-05e6-48a8-df9d-42ac70717f66"
      },
      "execution_count": null,
      "outputs": [
        {
          "output_type": "stream",
          "name": "stdout",
          "text": [
            "Correlação de Pearson: PearsonRResult(statistic=0.9321571885426281, pvalue=0.0)\n"
          ]
        }
      ]
    },
    {
      "cell_type": "markdown",
      "source": [
        "Questão 4: Alternativa D"
      ],
      "metadata": {
        "id": "c3CQONwCRYVn"
      }
    },
    {
      "cell_type": "code",
      "source": [
        "#Cria o grafo\n",
        "G=nx.barabasi_albert_graph(500,5)\n",
        "\n",
        "#Calcula o betweenness centrality de cada nó\n",
        "aux=nx.betweenness_centrality(G)\n",
        "aux=list(aux.values())\n",
        "\n",
        "#Exibe o resultado\n",
        "print(\"Correlação de Pearson: \"+str(pearsonr(obterGraus(G),aux)))"
      ],
      "metadata": {
        "colab": {
          "base_uri": "https://localhost:8080/"
        },
        "id": "4K7ms4PyRZN4",
        "outputId": "635a9fb2-1813-469d-ab8e-6937efade8a7"
      },
      "execution_count": null,
      "outputs": [
        {
          "output_type": "stream",
          "name": "stdout",
          "text": [
            "Correlação de Pearson: PearsonRResult(statistic=0.958025178158032, pvalue=2.283646940861656e-272)\n"
          ]
        }
      ]
    },
    {
      "cell_type": "markdown",
      "source": [
        "Questão 5: Alternativa B"
      ],
      "metadata": {
        "id": "jihO04jrSXkL"
      }
    },
    {
      "cell_type": "code",
      "source": [
        "#Resultado variava muito entre os testes, rodei 1000 testes e fiz a média\n",
        "\n",
        "#Vetor para armazenar o resultado de cada teste\n",
        "v=[]\n",
        "\n",
        "#Executa 1000 testes\n",
        "for i in range(0,1000):\n",
        "  #Vetor para armazenar a sequência, soma da sequência deve ser par\n",
        "  seq=[1]\n",
        "  while(sum(seq)%2==1):\n",
        "    seq = np.random.poisson(3, 500)\n",
        "\n",
        "  #Cria o grafo\n",
        "  G=nx.configuration_model(seq,create_using=nx.Graph)\n",
        "\n",
        "  #Armazena o resultado do teste\n",
        "  v.append(obterMomento(G,2))\n",
        "\n",
        "\n",
        "#Exibe a média dos testes\n",
        "print(\"Média do Segundo Momento: \"+str(sum(v)/len(v)))"
      ],
      "metadata": {
        "colab": {
          "base_uri": "https://localhost:8080/"
        },
        "id": "aseyvZizSXY_",
        "outputId": "0829da86-5e5e-4710-8258-588fb7dd23eb"
      },
      "execution_count": null,
      "outputs": [
        {
          "output_type": "stream",
          "name": "stdout",
          "text": [
            "Média do Segundo Momento: 11.902114000000024\n"
          ]
        }
      ]
    }
  ]
}
